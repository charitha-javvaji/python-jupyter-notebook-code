{
 "cells": [
  {
   "cell_type": "code",
   "execution_count": 1,
   "id": "665bce1b",
   "metadata": {},
   "outputs": [],
   "source": [
    "F=open('text.txt','a')\n",
    "lines=['hey how are you:kishore\\n','hey how are you:akhitha\\n','hey how are you:charitha']\n",
    "F.writelines(lines)\n",
    "F.close()"
   ]
  },
  {
   "cell_type": "code",
   "execution_count": 11,
   "id": "e06b65fc",
   "metadata": {},
   "outputs": [],
   "source": [
    "#----------------------------(or)------------------------------"
   ]
  },
  {
   "cell_type": "code",
   "execution_count": 2,
   "id": "d34b8908",
   "metadata": {},
   "outputs": [],
   "source": [
    "F=open('text.txt','w')\n",
    "F.write('hey how are you:kishore')\n",
    "F.write('\\n' 'hey how are you:akhitha')\n",
    "F.write('\\n''hey how are you:charithaa' )\n",
    "F.close()"
   ]
  },
  {
   "cell_type": "code",
   "execution_count": null,
   "id": "34609711",
   "metadata": {},
   "outputs": [],
   "source": []
  }
 ],
 "metadata": {
  "kernelspec": {
   "display_name": "Python 3 (ipykernel)",
   "language": "python",
   "name": "python3"
  },
  "language_info": {
   "codemirror_mode": {
    "name": "ipython",
    "version": 3
   },
   "file_extension": ".py",
   "mimetype": "text/x-python",
   "name": "python",
   "nbconvert_exporter": "python",
   "pygments_lexer": "ipython3",
   "version": "3.11.0"
  }
 },
 "nbformat": 4,
 "nbformat_minor": 5
}
